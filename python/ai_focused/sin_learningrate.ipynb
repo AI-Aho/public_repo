{
 "cells": [
  {
   "cell_type": "code",
   "execution_count": 1,
   "id": "2ffde75c-b33f-4067-80df-ec5ba54e0d56",
   "metadata": {},
   "outputs": [],
   "source": [
    "import numpy as np\n",
    "import math\n",
    "import random\n",
    "import matplotlib.pyplot as plt"
   ]
  },
  {
   "cell_type": "code",
   "execution_count": 2,
   "id": "9faee5de-2b65-47d4-9969-6723759d0745",
   "metadata": {},
   "outputs": [],
   "source": [
    "input_value = np.linspace(-2,2,2000)"
   ]
  },
  {
   "cell_type": "code",
   "execution_count": 3,
   "id": "4877d5e8-21cf-4acc-8a11-78a193daad43",
   "metadata": {},
   "outputs": [
    {
     "data": {
      "text/plain": [
       "array([-2.      , -1.997999, -1.995998, ...,  1.995998,  1.997999,\n",
       "        2.      ])"
      ]
     },
     "execution_count": 3,
     "metadata": {},
     "output_type": "execute_result"
    }
   ],
   "source": [
    "input_value"
   ]
  },
  {
   "cell_type": "code",
   "execution_count": 4,
   "id": "a9b12b42-d97c-4bb8-ac3c-5f0c7fef8ecc",
   "metadata": {},
   "outputs": [
    {
     "data": {
      "text/plain": [
       "(2000,)"
      ]
     },
     "execution_count": 4,
     "metadata": {},
     "output_type": "execute_result"
    }
   ],
   "source": [
    "input_value.shape"
   ]
  },
  {
   "cell_type": "code",
   "execution_count": 5,
   "id": "6785d365-e406-4722-a3ef-501646cb5ded",
   "metadata": {},
   "outputs": [],
   "source": [
    "y = np.sin(input_value)"
   ]
  },
  {
   "cell_type": "code",
   "execution_count": 6,
   "id": "d896a7a9-7e19-446d-a659-fc3fbe311712",
   "metadata": {},
   "outputs": [
    {
     "data": {
      "text/plain": [
       "(2000,)"
      ]
     },
     "execution_count": 6,
     "metadata": {},
     "output_type": "execute_result"
    }
   ],
   "source": [
    "y.shape"
   ]
  },
  {
   "cell_type": "code",
   "execution_count": 7,
   "id": "dd657ed1-e8b6-4ddb-8885-ecff7c37f548",
   "metadata": {},
   "outputs": [
    {
     "data": {
      "text/plain": [
       "array([-0.90929743, -0.91012832, -0.91095556, ...,  0.91095556,\n",
       "        0.91012832,  0.90929743])"
      ]
     },
     "execution_count": 7,
     "metadata": {},
     "output_type": "execute_result"
    }
   ],
   "source": [
    "y"
   ]
  },
  {
   "cell_type": "code",
   "execution_count": 8,
   "id": "65080adf-44d5-4723-8bda-c9cff7002a77",
   "metadata": {},
   "outputs": [
    {
     "name": "stdout",
     "output_type": "stream",
     "text": [
      "[-0.99168414 -0.99193967 -0.99219123 -0.99243882 -0.99268244 -0.99292208\n",
      " -0.99315775 -0.99338944 -0.99361715 -0.99384088 -0.99406064 -0.99427641\n",
      " -0.9944882  -0.99469601 -0.99489984 -0.99509969 -0.99529555 -0.99548742\n",
      " -0.99567531 -0.99585921 -0.99603913 -0.99621505 -0.99638699 -0.99655494\n",
      " -0.9967189  -0.99687887 -0.99703484 -0.99718683 -0.99733482 -0.99747881\n",
      " -0.99761882 -0.99775483 -0.99788684 -0.99801486 -0.99813888 -0.99825891\n",
      " -0.99837494 -0.99848697 -0.998595   -0.99869904 -0.99879908 -0.99889511\n",
      " -0.99898715 -0.99907519 -0.99915923 -0.99923926 -0.9993153  -0.99938733\n",
      " -0.99945537 -0.9995194  -0.99957943 -0.99963545 -0.99968748 -0.9997355\n",
      " -0.99977952 -0.99981953 -0.99985554 -0.99988755 -0.99991556 -0.99993956\n",
      " -0.99995956 -0.99997555 -0.99998754 -0.99999553 -0.99999951 -0.99999949\n",
      " -0.99999546 -0.99998743 -0.9999754  -0.99995936 -0.99993932 -0.99991527\n",
      " -0.99988723 -0.99985517 -0.99981912 -0.99977906 -0.999735   -0.99968693\n",
      " -0.99963486 -0.99957879 -0.99951872 -0.99945464 -0.99938657 -0.99931449\n",
      " -0.99923841 -0.99915833 -0.99907425 -0.99898617 -0.99889408 -0.998798\n",
      " -0.99869792 -0.99859384 -0.99848577 -0.99837369 -0.99825762 -0.99813755\n",
      " -0.99801348 -0.99788542 -0.99775336 -0.99761731]\n"
     ]
    }
   ],
   "source": [
    "print(y[150:250])"
   ]
  },
  {
   "cell_type": "code",
   "execution_count": 9,
   "id": "262fc68b-aa26-4807-bcf7-dd064f38ced2",
   "metadata": {},
   "outputs": [],
   "source": [
    "def mse(x,y):\n",
    "    y = list(y)\n",
    "    x = list(x)\n",
    "    squared_sum = 0\n",
    "    for i in range(len(y)):\n",
    "        squared_sum += (y[i] - x[i])**2\n",
    "    result = squared_sum/len(y)\n",
    "    return result"
   ]
  },
  {
   "cell_type": "code",
   "execution_count": 16,
   "id": "1056d535-c3ed-46e0-a093-389da54c0c1a",
   "metadata": {},
   "outputs": [
    {
     "name": "stdout",
     "output_type": "stream",
     "text": [
      "1.26622579619864 0.07604936423530076 0.41235756907425536 0.2924600919030984\n",
      "-11.543456425765154\n",
      "-0.9092974268256817\n",
      "result y= 0.02299737038679143 + 0.3713424093716155 x + 0.4325114098897091 x**3 -0.11362824435764168 x**5\n"
     ]
    },
    {
     "data": {
      "image/png": "[encoded data removed]",
      "text/plain": [
       "<Figure size 432x288 with 1 Axes>"
      ]
     },
     "metadata": {
      "needs_background": "light"
     },
     "output_type": "display_data"
    }
   ],
   "source": [
    "a = np.random.randn()\n",
    "b = np.random.randn()\n",
    "c = np.random.randn()\n",
    "d = np.random.randn()\n",
    "lr = 1e-6\n",
    "print(a,b,c,d)\n",
    "print(a + b*input_value[0] + c*input_value[0]**3 + d*input_value[0]**5)\n",
    "print(y[0])\n",
    "epochs = 1000\n",
    "loss_array = []\n",
    "for _ in range(epochs):\n",
    "    for _ in range(len(input_value)):\n",
    "        #Run the machine with sample\n",
    "        sample = random.randrange(0,2000)\n",
    "        y_predicted = a + b * input_value[sample] + c*input_value[sample]**3 + d*input_value[sample]**5\n",
    "        loss = (y[sample] - y_predicted)**2\n",
    "        #if sample % 100 == 99:\n",
    "        #    print(sample, loss)\n",
    "        loss_array.append(loss)\n",
    "        \n",
    "        #Then we try to estimate the error\n",
    "        grad_y_predicted = 2.0 * (y_predicted - y[sample])\n",
    "        grad_a = grad_y_predicted\n",
    "        grad_b = grad_y_predicted*input_value[sample]\n",
    "        grad_c = grad_y_predicted*input_value[sample]**3\n",
    "        grad_d = grad_y_predicted*input_value[sample]**5\n",
    "        \n",
    "        #Update our machine\n",
    "        a -= lr * grad_a\n",
    "        b -= lr * grad_b\n",
    "        c -= lr * grad_c\n",
    "        d -= lr * grad_d\n",
    "plt.plot(loss_array)\n",
    "print(f\"result y= {a} + {b} x + {c} x**3 {d} x**5\")"
   ]
  },
  {
   "cell_type": "code",
   "execution_count": 11,
   "id": "bdae1ad1-c74a-4378-944c-3d066728ff60",
   "metadata": {},
   "outputs": [
    {
     "name": "stdout",
     "output_type": "stream",
     "text": [
      "0.479425538604203\n",
      "-3045730208761035.5\n"
     ]
    }
   ],
   "source": [
    "value = 0.5\n",
    "print(np.sin(value))\n",
    "print(a + b*value + c*value**2 + d*value**3)"
   ]
  },
  {
   "cell_type": "code",
   "execution_count": 12,
   "id": "849c20ac-c6b2-4e6f-b57e-d93556aef953",
   "metadata": {},
   "outputs": [
    {
     "name": "stdout",
     "output_type": "stream",
     "text": [
      "9592278632078124.0\n"
     ]
    }
   ],
   "source": [
    "print(a + b*input_value[500] + c*input_value[500]**2 + d*input_value[500]**3)"
   ]
  },
  {
   "cell_type": "code",
   "execution_count": 13,
   "id": "e370a212-48e0-495b-801a-0745a67dc3ca",
   "metadata": {},
   "outputs": [],
   "source": [
    "lr = 1e-7"
   ]
  },
  {
   "cell_type": "code",
   "execution_count": 14,
   "id": "76a6ef66-3602-4e3d-8cef-76844c269f93",
   "metadata": {},
   "outputs": [
    {
     "name": "stdout",
     "output_type": "stream",
     "text": [
      "0.0000001000\n"
     ]
    }
   ],
   "source": [
    "print(format(lr,\".10f\"))"
   ]
  },
  {
   "cell_type": "code",
   "execution_count": null,
   "id": "f8d3d5d3-c5c0-446a-a631-f9b2fe72f003",
   "metadata": {},
   "outputs": [],
   "source": []
  },
  {
   "cell_type": "code",
   "execution_count": null,
   "id": "b0a7beb4-b6cc-4e7f-b845-d787e501ea6d",
   "metadata": {},
   "outputs": [],
   "source": []
  }
 ],
 "metadata": {
  "kernelspec": {
   "display_name": "Python 3 (ipykernel)",
   "language": "python",
   "name": "python3"
  },
  "language_info": {
   "codemirror_mode": {
    "name": "ipython",
    "version": 3
   },
   "file_extension": ".py",
   "mimetype": "text/x-python",
   "name": "python",
   "nbconvert_exporter": "python",
   "pygments_lexer": "ipython3",
   "version": "3.8.10"
  }
 },
 "nbformat": 4,
 "nbformat_minor": 5
}
