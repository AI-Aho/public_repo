{
 "cells": [
  {
   "cell_type": "code",
   "execution_count": 1,
   "id": "44eb465b-f491-4aa5-b66c-2b0ab7e16335",
   "metadata": {},
   "outputs": [],
   "source": [
    "from pandas import DataFrame \n",
    "from sklearn import linear_model\n",
    "import matplotlib.pyplot as visualisation\n"
   ]
  },
  {
   "cell_type": "code",
   "execution_count": 2,
   "id": "4be46d55-7a49-4999-92aa-171bfc1e42fd",
   "metadata": {},
   "outputs": [
    {
     "data": {
      "text/html": [
       "<div>\n",
       "<style scoped>\n",
       "    .dataframe tbody tr th:only-of-type {\n",
       "        vertical-align: middle;\n",
       "    }\n",
       "\n",
       "    .dataframe tbody tr th {\n",
       "        vertical-align: top;\n",
       "    }\n",
       "\n",
       "    .dataframe thead th {\n",
       "        text-align: right;\n",
       "    }\n",
       "</style>\n",
       "<table border=\"1\" class=\"dataframe\">\n",
       "  <thead>\n",
       "    <tr style=\"text-align: right;\">\n",
       "      <th></th>\n",
       "      <th>trip_length</th>\n",
       "      <th>trip_price</th>\n",
       "    </tr>\n",
       "  </thead>\n",
       "  <tbody>\n",
       "    <tr>\n",
       "      <th>0</th>\n",
       "      <td>6</td>\n",
       "      <td>17.65</td>\n",
       "    </tr>\n",
       "    <tr>\n",
       "      <th>1</th>\n",
       "      <td>5</td>\n",
       "      <td>15.90</td>\n",
       "    </tr>\n",
       "    <tr>\n",
       "      <th>2</th>\n",
       "      <td>2</td>\n",
       "      <td>11.40</td>\n",
       "    </tr>\n",
       "    <tr>\n",
       "      <th>3</th>\n",
       "      <td>7</td>\n",
       "      <td>22.40</td>\n",
       "    </tr>\n",
       "    <tr>\n",
       "      <th>4</th>\n",
       "      <td>9</td>\n",
       "      <td>28.15</td>\n",
       "    </tr>\n",
       "    <tr>\n",
       "      <th>5</th>\n",
       "      <td>3</td>\n",
       "      <td>14.65</td>\n",
       "    </tr>\n",
       "    <tr>\n",
       "      <th>6</th>\n",
       "      <td>4</td>\n",
       "      <td>14.15</td>\n",
       "    </tr>\n",
       "    <tr>\n",
       "      <th>7</th>\n",
       "      <td>6</td>\n",
       "      <td>17.65</td>\n",
       "    </tr>\n",
       "    <tr>\n",
       "      <th>8</th>\n",
       "      <td>2</td>\n",
       "      <td>12.15</td>\n",
       "    </tr>\n",
       "    <tr>\n",
       "      <th>9</th>\n",
       "      <td>8</td>\n",
       "      <td>23.40</td>\n",
       "    </tr>\n",
       "    <tr>\n",
       "      <th>10</th>\n",
       "      <td>5</td>\n",
       "      <td>18.15</td>\n",
       "    </tr>\n",
       "    <tr>\n",
       "      <th>11</th>\n",
       "      <td>2</td>\n",
       "      <td>11.40</td>\n",
       "    </tr>\n",
       "    <tr>\n",
       "      <th>12</th>\n",
       "      <td>6</td>\n",
       "      <td>18.40</td>\n",
       "    </tr>\n",
       "    <tr>\n",
       "      <th>13</th>\n",
       "      <td>3</td>\n",
       "      <td>12.40</td>\n",
       "    </tr>\n",
       "    <tr>\n",
       "      <th>14</th>\n",
       "      <td>9</td>\n",
       "      <td>23.65</td>\n",
       "    </tr>\n",
       "    <tr>\n",
       "      <th>15</th>\n",
       "      <td>8</td>\n",
       "      <td>24.90</td>\n",
       "    </tr>\n",
       "    <tr>\n",
       "      <th>16</th>\n",
       "      <td>9</td>\n",
       "      <td>25.90</td>\n",
       "    </tr>\n",
       "    <tr>\n",
       "      <th>17</th>\n",
       "      <td>5</td>\n",
       "      <td>18.15</td>\n",
       "    </tr>\n",
       "    <tr>\n",
       "      <th>18</th>\n",
       "      <td>6</td>\n",
       "      <td>19.15</td>\n",
       "    </tr>\n",
       "  </tbody>\n",
       "</table>\n",
       "</div>"
      ],
      "text/plain": [
       "    trip_length  trip_price\n",
       "0             6       17.65\n",
       "1             5       15.90\n",
       "2             2       11.40\n",
       "3             7       22.40\n",
       "4             9       28.15\n",
       "5             3       14.65\n",
       "6             4       14.15\n",
       "7             6       17.65\n",
       "8             2       12.15\n",
       "9             8       23.40\n",
       "10            5       18.15\n",
       "11            2       11.40\n",
       "12            6       18.40\n",
       "13            3       12.40\n",
       "14            9       23.65\n",
       "15            8       24.90\n",
       "16            9       25.90\n",
       "17            5       18.15\n",
       "18            6       19.15"
      ]
     },
     "execution_count": 2,
     "metadata": {},
     "output_type": "execute_result"
    }
   ],
   "source": [
    "data = {'trip_length': [6,5,2,7,9,3,4,6,2,8,5,2,6,3,9,8,9,5,6],\n",
    "        'trip_price': [17.65,15.90,11.40, 22.40, 28.15, 14.65, 14.15, 17.65, 12.15, 23.40, 18.15, 11.40, 18.40, 12.40, 23.65, 24.90, 25.90, 18.15, 19.15]\n",
    "                }\n",
    "\n",
    "data_frame = DataFrame(data)\n",
    "data_frame.head(20)"
   ]
  },
  {
   "cell_type": "code",
   "execution_count": 3,
   "id": "92b1a9d5-92e0-4dc5-9009-654963b990cc",
   "metadata": {},
   "outputs": [
    {
     "data": {
      "image/png": "[encoded data removed]",
      "text/plain": [
       "<Figure size 432x288 with 1 Axes>"
      ]
     },
     "metadata": {
      "needs_background": "light"
     },
     "output_type": "display_data"
    }
   ],
   "source": [
    "visualisation.title('Trip Length Vs. Price', fontsize=14)\n",
    "visualisation.xlabel('Trip Length', fontsize=14)\n",
    "visualisation.ylabel('Price', fontsize=14)\n",
    "visualisation.grid(True) \n",
    "visualisation.scatter(data_frame['trip_length'], data_frame['trip_price'])\n",
    "\n",
    "visualisation.show()"
   ]
  },
  {
   "cell_type": "code",
   "execution_count": 4,
   "id": "d46c6e7c-ec61-480b-b75d-00ecd04c627f",
   "metadata": {},
   "outputs": [
    {
     "data": {
      "text/plain": [
       "LinearRegression()"
      ]
     },
     "execution_count": 4,
     "metadata": {},
     "output_type": "execute_result"
    }
   ],
   "source": [
    "regression_tool = linear_model.LinearRegression()\n",
    "\n",
    "regression_tool.fit(data_frame[['trip_length']], data_frame['trip_price'])"
   ]
  },
  {
   "cell_type": "code",
   "execution_count": 5,
   "id": "70478ced-701a-4a29-b388-68e6208f7d7d",
   "metadata": {},
   "outputs": [
    {
     "name": "stdout",
     "output_type": "stream",
     "text": [
      "Intercept: \n",
      " 6.989824120603009\n",
      "Coefficients: \n",
      " [2.06469849]\n"
     ]
    }
   ],
   "source": [
    "print('Intercept: \\n', regression_tool.intercept_)\n",
    "\n",
    "\n",
    "print('Coefficients: \\n', regression_tool.coef_)"
   ]
  },
  {
   "cell_type": "code",
   "execution_count": 6,
   "id": "b479b44e-7604-4415-9a91-68c8e758e1e2",
   "metadata": {},
   "outputs": [
    {
     "data": {
      "text/plain": [
       "[<matplotlib.lines.Line2D at 0x7f6565519be0>]"
      ]
     },
     "execution_count": 6,
     "metadata": {},
     "output_type": "execute_result"
    },
    {
     "data": {
      "image/png": "[encoded data removed]",
      "text/plain": [
       "<Figure size 432x288 with 1 Axes>"
      ]
     },
     "metadata": {
      "needs_background": "light"
     },
     "output_type": "display_data"
    }
   ],
   "source": [
    "regression_curve = regression_tool.predict(data_frame[['trip_length']])\n",
    "\n",
    "visualisation.plot(data_frame['trip_length'], regression_curve, color='y')"
   ]
  },
  {
   "cell_type": "code",
   "execution_count": 7,
   "id": "d0565fd2-6585-49e4-9fd9-86f91468a477",
   "metadata": {},
   "outputs": [
    {
     "data": {
      "image/png": "[encoded data removed]",
      "text/plain": [
       "<Figure size 432x288 with 1 Axes>"
      ]
     },
     "metadata": {
      "needs_background": "light"
     },
     "output_type": "display_data"
    }
   ],
   "source": [
    "visualisation.title('Trip Length Vs. Price', fontsize=14)\n",
    "visualisation.xlabel('Trip Length', fontsize=14)\n",
    "visualisation.ylabel('Price', fontsize=14)\n",
    "visualisation.grid(True) \n",
    "\n",
    "visualisation.scatter(data_frame['trip_length'], data_frame['trip_price'])\n",
    "\n",
    "\n",
    "regression_tool = linear_model.LinearRegression()\n",
    "regression_tool.fit(data_frame[['trip_length']], data_frame['trip_price'])\n",
    "\n",
    "regression_curve = regression_tool.predict(data_frame[['trip_length']])\n",
    "visualisation.plot(data_frame['trip_length'], regression_curve, color='y')\n",
    "\n",
    "\n",
    "visualisation.show()"
   ]
  },
  {
   "cell_type": "code",
   "execution_count": 10,
   "id": "6835f4a3-a800-4bc1-8026-5bad99d68930",
   "metadata": {},
   "outputs": [
    {
     "name": "stdout",
     "output_type": "stream",
     "text": [
      "Price predictions: \n",
      " [ 31.76620603   9.05452261 490.12927136]\n"
     ]
    }
   ],
   "source": [
    "#Given numbers are the trip length.\n",
    "print ('Price predictions: \\n', regression_tool.predict([[12],[1],[234]]))"
   ]
  },
  {
   "cell_type": "code",
   "execution_count": null,
   "id": "05b9ecb2-7265-42cd-9317-99d58040045d",
   "metadata": {},
   "outputs": [],
   "source": []
  }
 ],
 "metadata": {
  "kernelspec": {
   "display_name": "Python 3 (ipykernel)",
   "language": "python",
   "name": "python3"
  },
  "language_info": {
   "codemirror_mode": {
    "name": "ipython",
    "version": 3
   },
   "file_extension": ".py",
   "mimetype": "text/x-python",
   "name": "python",
   "nbconvert_exporter": "python",
   "pygments_lexer": "ipython3",
   "version": "3.8.10"
  }
 },
 "nbformat": 4,
 "nbformat_minor": 5
}
