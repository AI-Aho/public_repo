{
 "cells": [
  {
   "cell_type": "code",
   "execution_count": 1,
   "id": "a363503f-322a-4743-9c70-9d3832bedd4e",
   "metadata": {},
   "outputs": [
    {
     "name": "stdin",
     "output_type": "stream",
     "text": [
      "Are we there yet? no\n",
      "Are we there yet? yes\n"
     ]
    },
    {
     "name": "stdout",
     "output_type": "stream",
     "text": [
      "Yayyy!,We are there!\n"
     ]
    }
   ],
   "source": [
    "#Asks the user \"Are we there yet?\" until user DOESN'T say \"no\", which case the program says: \"Yayyy,We are there!\".\n",
    "answer=\"no\"\n",
    "while True:\n",
    "    answer=input(\"Are we there yet?\")\n",
    "    if answer == \"no\":\n",
    "        continue\n",
    "    else:\n",
    "        print(\"Yayyy!,We are there!\")\n",
    "        break"
   ]
  },
  {
   "cell_type": "code",
   "execution_count": 2,
   "id": "b2870133-7235-4618-a9bc-b65170409c28",
   "metadata": {},
   "outputs": [
    {
     "name": "stdin",
     "output_type": "stream",
     "text": [
      "What month is summer in Finland? june\n"
     ]
    },
    {
     "name": "stdout",
     "output_type": "stream",
     "text": [
      "correct!\n"
     ]
    }
   ],
   "source": [
    "#Convert the list to lowercase. If user says one of the months on the list the loop breaks.\n",
    "summer=[\"MAY\",\"JUNE\",\"JULY\",\"AUGUST\"]\n",
    "summer = [each_string.lower() for each_string in summer]\n",
    "while True:\n",
    "    answer=input(\"What month is summer in Finland?\")\n",
    "    if answer in summer:\n",
    "        print(\"correct!\")\n",
    "        break\n",
    "    else:\n",
    "        continue"
   ]
  },
  {
   "cell_type": "code",
   "execution_count": 4,
   "id": "f844f2a6-6f7f-44b2-814a-306baeb87c7e",
   "metadata": {},
   "outputs": [
    {
     "name": "stdout",
     "output_type": "stream",
     "text": [
      "0\n",
      "1\n",
      "2\n",
      "3\n",
      "4\n",
      "5\n",
      "6\n",
      "7\n",
      "8\n",
      "9\n"
     ]
    }
   ],
   "source": [
    "#While x is less than 10, prints x and adds 1 to it\n",
    "x = 0\n",
    "while (x < 10):\n",
    "    print(x)\n",
    "    x = x + 1; "
   ]
  },
  {
   "cell_type": "code",
   "execution_count": 3,
   "id": "0f29ccb7-1a63-45d6-bce2-4f2396d81748",
   "metadata": {},
   "outputs": [
    {
     "name": "stdin",
     "output_type": "stream",
     "text": [
      "How many days do you want to count? 5\n"
     ]
    },
    {
     "name": "stdout",
     "output_type": "stream",
     "text": [
      "Today is day  0\n",
      "Today is day  1\n",
      "Today is day  2\n",
      "Today is day  3\n",
      "Today is day  4\n",
      "Today is day  5\n"
     ]
    }
   ],
   "source": [
    "#counts  the amount of days user says to\n",
    "days = -1\n",
    "userwant = int(input(\"How many days do you want to count?\"))\n",
    "while (days < userwant):\n",
    "    days = days + 1; \n",
    "    print(\"Today is day \",days)"
   ]
  },
  {
   "cell_type": "code",
   "execution_count": 2,
   "id": "e26e850c-6e09-46d3-9a71-00550deaf998",
   "metadata": {},
   "outputs": [
    {
     "name": "stdout",
     "output_type": "stream",
     "text": [
      "4\n",
      "3\n",
      "2\n",
      "1\n",
      "0\n"
     ]
    }
   ],
   "source": [
    "#While x is more than -1, print x and subtract 1 from it.\n",
    "x = 4\n",
    "while (x > -1):\n",
    "    print(x)\n",
    "    x = x - 1; "
   ]
  },
  {
   "cell_type": "code",
   "execution_count": null,
   "id": "635bb8f9-06fe-4f5b-b664-58cd4cbef633",
   "metadata": {},
   "outputs": [],
   "source": []
  }
 ],
 "metadata": {
  "kernelspec": {
   "display_name": "Python 3 (ipykernel)",
   "language": "python",
   "name": "python3"
  },
  "language_info": {
   "codemirror_mode": {
    "name": "ipython",
    "version": 3
   },
   "file_extension": ".py",
   "mimetype": "text/x-python",
   "name": "python",
   "nbconvert_exporter": "python",
   "pygments_lexer": "ipython3",
   "version": "3.8.10"
  }
 },
 "nbformat": 4,
 "nbformat_minor": 5
}
