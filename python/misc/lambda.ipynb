{
 "cells": [
  {
   "cell_type": "code",
   "execution_count": 2,
   "id": "ea9b6213-9ef7-4314-bce3-0ed2bffebbaa",
   "metadata": {},
   "outputs": [
    {
     "name": "stdout",
     "output_type": "stream",
     "text": [
      "4\n"
     ]
    }
   ],
   "source": [
    "# labda syntax:    lambda arguments : expression\n",
    "\n",
    "my_sum = lambda x: x + x\n",
    "print(my_sum(2))"
   ]
  },
  {
   "cell_type": "code",
   "execution_count": 4,
   "id": "c9f129a4-70f4-48d5-bd84-5b63e73ce8e7",
   "metadata": {},
   "outputs": [
    {
     "name": "stdout",
     "output_type": "stream",
     "text": [
      "22\n"
     ]
    }
   ],
   "source": [
    "my_sum = lambda num: num + 10\n",
    "print(my_sum(12))"
   ]
  },
  {
   "cell_type": "code",
   "execution_count": 5,
   "id": "8921f3d3-119c-4347-9f60-c326bdfe553f",
   "metadata": {},
   "outputs": [
    {
     "name": "stdout",
     "output_type": "stream",
     "text": [
      "10\n"
     ]
    }
   ],
   "source": [
    "my_double = lambda x: x*2\n",
    "print(my_double(5))"
   ]
  },
  {
   "cell_type": "code",
   "execution_count": 9,
   "id": "464e1a7d-6907-49ba-a9e4-5f418d86c0a3",
   "metadata": {},
   "outputs": [
    {
     "name": "stdout",
     "output_type": "stream",
     "text": [
      "36\n"
     ]
    }
   ],
   "source": [
    "my_multi = lambda s: s*s\n",
    "print(my_multi(6))"
   ]
  },
  {
   "cell_type": "code",
   "execution_count": 11,
   "id": "fef12db4-f288-40f5-a506-65fa32f20a68",
   "metadata": {},
   "outputs": [
    {
     "name": "stdout",
     "output_type": "stream",
     "text": [
      "7\n"
     ]
    }
   ],
   "source": [
    "#Write a lambda function that takes x  and y as parameter and returns x+y Then assign it to a variable named: my_variable\n",
    "#use: lambda, variables: x, y and my_variable\n",
    "my_variable = lambda x,y: x+y\n",
    "\n",
    "print(my_variable(1,6))"
   ]
  },
  {
   "cell_type": "code",
   "execution_count": 14,
   "id": "5b267348-dfdc-45ca-9db8-2ecb19202fc6",
   "metadata": {},
   "outputs": [
    {
     "name": "stdout",
     "output_type": "stream",
     "text": [
      "True\n"
     ]
    }
   ],
   "source": [
    "#Write a lambda function that takes p and z as parameter and Returns return True if z is greater than p. Then assign it to a variable named: greater  \n",
    "#use: lambda, parameters: p and z (in this order) variable named greater\n",
    "\n",
    "greater = lambda p,z: z > p\n",
    "print(greater(2,10))"
   ]
  },
  {
   "cell_type": "code",
   "execution_count": 15,
   "id": "5141c5c4-0243-45ab-8928-94012d000180",
   "metadata": {},
   "outputs": [
    {
     "name": "stdout",
     "output_type": "stream",
     "text": [
      "6\n"
     ]
    }
   ],
   "source": [
    "#Write a lambda function that takes word as parameter and Returns the len of the word. Then assign it to a variable named: my_len. \n",
    "#use: lambda,  word , my_len\n",
    "my_len = lambda word: len(word)\n",
    "print(my_len('monkey'))"
   ]
  },
  {
   "cell_type": "code",
   "execution_count": 1,
   "id": "12e4bdb6-ce67-41ce-bd3f-bd07f0a3c772",
   "metadata": {},
   "outputs": [
    {
     "name": "stdout",
     "output_type": "stream",
     "text": [
      "F\n"
     ]
    }
   ],
   "source": [
    "#Write a lambda function that takes gender as parameter and Returns F is female or M if is Male. Then assign it to a variable named: genders. \n",
    "#use: lambda, variable named genders\n",
    "genders = lambda gender: \"F\" if gender == \"Female\" else \"M\" \n",
    "print(genders('Female'))"
   ]
  },
  {
   "cell_type": "code",
   "execution_count": null,
   "id": "6dcc5db0-cd59-424b-a139-2c2b8312bc7a",
   "metadata": {},
   "outputs": [],
   "source": []
  }
 ],
 "metadata": {
  "kernelspec": {
   "display_name": "Python 3 (ipykernel)",
   "language": "python",
   "name": "python3"
  },
  "language_info": {
   "codemirror_mode": {
    "name": "ipython",
    "version": 3
   },
   "file_extension": ".py",
   "mimetype": "text/x-python",
   "name": "python",
   "nbconvert_exporter": "python",
   "pygments_lexer": "ipython3",
   "version": "3.8.10"
  }
 },
 "nbformat": 4,
 "nbformat_minor": 5
}
