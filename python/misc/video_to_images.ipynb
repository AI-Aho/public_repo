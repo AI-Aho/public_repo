{
 "cells": [
  {
   "cell_type": "code",
   "execution_count": 1,
   "id": "94a71adc-de96-437e-9346-e49ccf9c1e6c",
   "metadata": {},
   "outputs": [],
   "source": [
    "import cv2 as cv\n",
    "import os\n",
    "# Read the video from specified path\n",
    "cam = cv.VideoCapture(\"sm.mp4\")\n",
    "\n",
    "try:\n",
    "    \n",
    "    # creating a folder named data if it does not exist\n",
    "    if not os.path.exists('data'):\n",
    "        os.makedirs('data')\n",
    "\n",
    "# if not created then raise error\n",
    "except OSError:\n",
    "    print ('Error: Creating directory of data')\n",
    "\n",
    "# starting frame\n",
    "currentframe = 0\n",
    "\n",
    "while(True):\n",
    "    \n",
    "    # reading from frame\n",
    "    ret,frame = cam.read()\n",
    "\n",
    "    if ret:\n",
    "        #savename = str(currentframe).zfill(4)\n",
    "        # if video is still left continue creating images\n",
    "        name = './data/' + str(currentframe) + '.jpg'\n",
    "        #print ('Creating...' + name)\n",
    "\n",
    "        # writing the extracted images\n",
    "        cv.imwrite(name, frame)\n",
    "\n",
    "        # increasing counter so that it will\n",
    "        # show how many frames are created\n",
    "        currentframe += 1\n",
    "    else:\n",
    "        break\n",
    "\n",
    "# Release all space and windows once done\n",
    "cam.release()\n",
    "cv.destroyAllWindows()"
   ]
  },
  {
   "cell_type": "code",
   "execution_count": null,
   "id": "9e7f6744-3783-4179-91b8-35c4f8104789",
   "metadata": {},
   "outputs": [],
   "source": []
  }
 ],
 "metadata": {
  "kernelspec": {
   "display_name": "Python 3 (ipykernel)",
   "language": "python",
   "name": "python3"
  },
  "language_info": {
   "codemirror_mode": {
    "name": "ipython",
    "version": 3
   },
   "file_extension": ".py",
   "mimetype": "text/x-python",
   "name": "python",
   "nbconvert_exporter": "python",
   "pygments_lexer": "ipython3",
   "version": "3.8.10"
  }
 },
 "nbformat": 4,
 "nbformat_minor": 5
}
