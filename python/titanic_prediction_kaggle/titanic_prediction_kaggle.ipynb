{
 "cells": [
  {
   "cell_type": "code",
   "execution_count": 188,
   "id": "9a8c72d1-7657-42bb-a8fc-9593174c4105",
   "metadata": {},
   "outputs": [],
   "source": [
    "import pandas as pd\n",
    "import numpy as np\n",
    "import matplotlib.pyplot as plt\n",
    "import seaborn as sns\n",
    "import missingno as msno  \n",
    "import datatable as dt\n",
    "import re\n",
    "from sklearn import metrics\n",
    "\n",
    "from sklearn.preprocessing import MinMaxScaler\n",
    "from sklearn.preprocessing import StandardScaler\n",
    "from sklearn.ensemble import RandomForestClassifier\n",
    "from sklearn.tree import DecisionTreeClassifier\n",
    "from sklearn.linear_model import LogisticRegression\n",
    "from sklearn.metrics import classification_report,confusion_matrix\n",
    "\n",
    "pd.set_option('display.max_rows', 1000)\n",
    "pd.set_option('display.max_columns', 500)\n",
    "pd.set_option('display.width', 1000)\n",
    "pd.set_option('display.max_colwidth', 1000)"
   ]
  },
  {
   "cell_type": "code",
   "execution_count": 189,
   "id": "ac45a1f9-6644-4252-a96b-91656510dc53",
   "metadata": {},
   "outputs": [
    {
     "data": {
      "text/html": [
       "<div>\n",
       "<style scoped>\n",
       "    .dataframe tbody tr th:only-of-type {\n",
       "        vertical-align: middle;\n",
       "    }\n",
       "\n",
       "    .dataframe tbody tr th {\n",
       "        vertical-align: top;\n",
       "    }\n",
       "\n",
       "    .dataframe thead th {\n",
       "        text-align: right;\n",
       "    }\n",
       "</style>\n",
       "<table border=\"1\" class=\"dataframe\">\n",
       "  <thead>\n",
       "    <tr style=\"text-align: right;\">\n",
       "      <th></th>\n",
       "      <th>PassengerId</th>\n",
       "      <th>Survived</th>\n",
       "      <th>Pclass</th>\n",
       "      <th>Name</th>\n",
       "      <th>Sex</th>\n",
       "      <th>Age</th>\n",
       "      <th>SibSp</th>\n",
       "      <th>Parch</th>\n",
       "      <th>Ticket</th>\n",
       "      <th>Fare</th>\n",
       "      <th>Cabin</th>\n",
       "      <th>Embarked</th>\n",
       "    </tr>\n",
       "  </thead>\n",
       "  <tbody>\n",
       "    <tr>\n",
       "      <th>0</th>\n",
       "      <td>1</td>\n",
       "      <td>0</td>\n",
       "      <td>3</td>\n",
       "      <td>Braund, Mr. Owen Harris</td>\n",
       "      <td>male</td>\n",
       "      <td>22.0</td>\n",
       "      <td>1</td>\n",
       "      <td>0</td>\n",
       "      <td>A/5 21171</td>\n",
       "      <td>7.25</td>\n",
       "      <td>NaN</td>\n",
       "      <td>S</td>\n",
       "    </tr>\n",
       "  </tbody>\n",
       "</table>\n",
       "</div>"
      ],
      "text/plain": [
       "   PassengerId  Survived  Pclass                     Name   Sex   Age  SibSp  Parch     Ticket  Fare Cabin Embarked\n",
       "0            1         0       3  Braund, Mr. Owen Harris  male  22.0      1      0  A/5 21171  7.25   NaN        S"
      ]
     },
     "execution_count": 189,
     "metadata": {},
     "output_type": "execute_result"
    }
   ],
   "source": [
    "train = pd.read_csv('train.csv')\n",
    "train.head(1)"
   ]
  },
  {
   "cell_type": "code",
   "execution_count": 190,
   "id": "1248e9b0-910d-48d3-a7ae-5646e7bb76f0",
   "metadata": {},
   "outputs": [],
   "source": [
    "train['Title'] = train.Name.str.extract(' ([A-Za-z]+)\\.')\n",
    "train.replace(['Capt','Col','Countess','Don','Dr','Jonkheer','Lady','Major','Rev','Sir','Dona'],'Others',inplace=True)\n",
    "train.replace(['Mlle','Ms'],'Miss',inplace = True)\n",
    "train.replace('Mme','Mrs',inplace=True)\n",
    "train.Title.replace({'Mr':0,'Miss':1,'Mrs':2,'Master':3,'Others':4},inplace=True)\n",
    "# ------------------------------------------------------------------------------\n",
    "train['Fare'] = pd.qcut(train.Fare,4,labels=[0,1,2,3])\n",
    "train.drop(['PassengerId','Name','Ticket','Cabin'],axis = 1, inplace = True)\n",
    "train.Sex.replace({'male':0,'female':1}, inplace=True)\n",
    "train.Embarked.replace({'S':0,'C':1,'Q':2,np.nan:0},inplace=True)\n",
    "train.Age.fillna(28.0,inplace=True)\n",
    "train.Age = train.Age.astype(int)"
   ]
  },
  {
   "cell_type": "code",
   "execution_count": 191,
   "id": "a1987223-afb3-49f1-b3dd-dcdf187b1c03",
   "metadata": {},
   "outputs": [],
   "source": [
    "def cond(s):\n",
    "    if (s.Sex==1) and (s.Pclass==1) and (s.child==1):\n",
    "        return 1\n",
    "    else: \n",
    "        return 0"
   ]
  },
  {
   "cell_type": "code",
   "execution_count": 192,
   "id": "963c7838-abc0-41dd-85b0-36971d47845e",
   "metadata": {},
   "outputs": [],
   "source": [
    "def cond_2(s):\n",
    "    if (s.SibSp == 0) and (s.Parch == 0):\n",
    "        return 1\n",
    "    else:\n",
    "        return 0"
   ]
  },
  {
   "cell_type": "code",
   "execution_count": 193,
   "id": "d4fd21b0-657b-4a82-8b1c-46945210774f",
   "metadata": {},
   "outputs": [],
   "source": [
    "train['child'] = np.where(train.Age < 17,1,0)\n",
    "train['Priority'] = train.apply(cond,axis=1)\n",
    "train['Alone'] = train.apply(cond_2,axis=1)"
   ]
  },
  {
   "cell_type": "code",
   "execution_count": 194,
   "id": "6751f9dc-4e15-4c58-89b2-a32115ceb39e",
   "metadata": {},
   "outputs": [
    {
     "data": {
      "text/html": [
       "<div>\n",
       "<style scoped>\n",
       "    .dataframe tbody tr th:only-of-type {\n",
       "        vertical-align: middle;\n",
       "    }\n",
       "\n",
       "    .dataframe tbody tr th {\n",
       "        vertical-align: top;\n",
       "    }\n",
       "\n",
       "    .dataframe thead th {\n",
       "        text-align: right;\n",
       "    }\n",
       "</style>\n",
       "<table border=\"1\" class=\"dataframe\">\n",
       "  <thead>\n",
       "    <tr style=\"text-align: right;\">\n",
       "      <th></th>\n",
       "      <th>PassengerId</th>\n",
       "      <th>Pclass</th>\n",
       "      <th>Name</th>\n",
       "      <th>Sex</th>\n",
       "      <th>Age</th>\n",
       "      <th>SibSp</th>\n",
       "      <th>Parch</th>\n",
       "      <th>Ticket</th>\n",
       "      <th>Fare</th>\n",
       "      <th>Cabin</th>\n",
       "      <th>Embarked</th>\n",
       "    </tr>\n",
       "  </thead>\n",
       "  <tbody>\n",
       "    <tr>\n",
       "      <th>0</th>\n",
       "      <td>892</td>\n",
       "      <td>3</td>\n",
       "      <td>Kelly, Mr. James</td>\n",
       "      <td>male</td>\n",
       "      <td>34.5</td>\n",
       "      <td>0</td>\n",
       "      <td>0</td>\n",
       "      <td>330911</td>\n",
       "      <td>7.8292</td>\n",
       "      <td>NaN</td>\n",
       "      <td>Q</td>\n",
       "    </tr>\n",
       "  </tbody>\n",
       "</table>\n",
       "</div>"
      ],
      "text/plain": [
       "   PassengerId  Pclass              Name   Sex   Age  SibSp  Parch  Ticket    Fare Cabin Embarked\n",
       "0          892       3  Kelly, Mr. James  male  34.5      0      0  330911  7.8292   NaN        Q"
      ]
     },
     "execution_count": 194,
     "metadata": {},
     "output_type": "execute_result"
    }
   ],
   "source": [
    "test = pd.read_csv('test.csv')\n",
    "test.head(1)"
   ]
  },
  {
   "cell_type": "code",
   "execution_count": 195,
   "id": "afd2ccc1-b3ab-49c1-a459-e2e5d2402344",
   "metadata": {},
   "outputs": [],
   "source": [
    "test['Title'] = test.Name.str.extract(' ([A-Za-z]+)\\.')\n",
    "test.replace(['Capt','Col','Countess','Don','Dr','Jonkheer','Lady','Major','Rev','Sir','Dona'],'Others',inplace=True)\n",
    "test.replace(['Mlle','Ms'],'Miss',inplace = True)\n",
    "test.replace('Mme','Mrs',inplace=True)\n",
    "test.Title.replace({'Mr':0,'Miss':1,'Mrs':2,'Master':3,'Others':4},inplace=True)\n",
    "# ------------------------------------------------------------------------------\n",
    "test.Fare.fillna(test.Fare.median(),inplace=True)\n",
    "test['Fare'] = pd.qcut(train.Fare,4,labels=[0,1,2,3])\n",
    "test.drop(['PassengerId','Name','Ticket','Cabin'],axis = 1, inplace = True)\n",
    "test.Embarked.replace({'S':0,'C':1,'Q':2,np.nan:0},inplace=True)\n",
    "test.Sex.replace({'male':0,'female':1}, inplace=True)\n",
    "test.Age.fillna(28.0,inplace=True)\n",
    "test.Age = test.Age.astype(int)"
   ]
  },
  {
   "cell_type": "code",
   "execution_count": 196,
   "id": "5ac10726-ac1b-429a-8561-c9c69733afa3",
   "metadata": {},
   "outputs": [],
   "source": [
    "test['child'] = np.where(test.Age < 17,1,0)\n",
    "test['Priority'] = test.apply(cond,axis=1)\n",
    "test['Alone'] = test.apply(cond_2,axis=1)"
   ]
  },
  {
   "cell_type": "code",
   "execution_count": 197,
   "id": "24d45d29-e7c1-4e26-8ca2-286cfc282c88",
   "metadata": {},
   "outputs": [],
   "source": [
    "scaler = MinMaxScaler()\n",
    "test_n = scaler.fit_transform(test)\n",
    "test = pd.DataFrame(test_n, columns = test.columns)\n",
    "\n",
    "train_n = scaler.fit_transform(train)\n",
    "train = pd.DataFrame(train_n, columns = train.columns)"
   ]
  },
  {
   "cell_type": "code",
   "execution_count": 198,
   "id": "5d9a301a-4ba6-4731-9635-d8ab080453f8",
   "metadata": {},
   "outputs": [],
   "source": [
    "X,y = train.drop('Survived',axis=1),train.Survived\n",
    "lr = LogisticRegression(max_iter=1000)\n",
    "lr.fit(X,y)\n",
    "pred = lr.predict(test)"
   ]
  },
  {
   "cell_type": "code",
   "execution_count": 200,
   "id": "3380fd61-ddc1-4d2a-95ac-3d4b400c0b0c",
   "metadata": {},
   "outputs": [],
   "source": [
    "pred = pred.astype(int)"
   ]
  },
  {
   "cell_type": "code",
   "execution_count": 201,
   "id": "f70a10bc-dd11-4a08-95aa-acf46a625430",
   "metadata": {},
   "outputs": [
    {
     "data": {
      "text/html": [
       "<div>\n",
       "<style scoped>\n",
       "    .dataframe tbody tr th:only-of-type {\n",
       "        vertical-align: middle;\n",
       "    }\n",
       "\n",
       "    .dataframe tbody tr th {\n",
       "        vertical-align: top;\n",
       "    }\n",
       "\n",
       "    .dataframe thead th {\n",
       "        text-align: right;\n",
       "    }\n",
       "</style>\n",
       "<table border=\"1\" class=\"dataframe\">\n",
       "  <thead>\n",
       "    <tr style=\"text-align: right;\">\n",
       "      <th></th>\n",
       "      <th>PassengerId</th>\n",
       "      <th>Survived</th>\n",
       "    </tr>\n",
       "  </thead>\n",
       "  <tbody>\n",
       "    <tr>\n",
       "      <th>0</th>\n",
       "      <td>892</td>\n",
       "      <td>0</td>\n",
       "    </tr>\n",
       "    <tr>\n",
       "      <th>1</th>\n",
       "      <td>893</td>\n",
       "      <td>1</td>\n",
       "    </tr>\n",
       "    <tr>\n",
       "      <th>2</th>\n",
       "      <td>894</td>\n",
       "      <td>0</td>\n",
       "    </tr>\n",
       "    <tr>\n",
       "      <th>3</th>\n",
       "      <td>895</td>\n",
       "      <td>0</td>\n",
       "    </tr>\n",
       "    <tr>\n",
       "      <th>4</th>\n",
       "      <td>896</td>\n",
       "      <td>1</td>\n",
       "    </tr>\n",
       "  </tbody>\n",
       "</table>\n",
       "</div>"
      ],
      "text/plain": [
       "   PassengerId  Survived\n",
       "0          892         0\n",
       "1          893         1\n",
       "2          894         0\n",
       "3          895         0\n",
       "4          896         1"
      ]
     },
     "execution_count": 201,
     "metadata": {},
     "output_type": "execute_result"
    }
   ],
   "source": [
    "test_t = pd.read_csv('test.csv')\n",
    "sub = pd.DataFrame({'PassengerId':test_t.PassengerId,'Survived':pred})\n",
    "sub.to_csv('submission.csv',index=False)\n",
    "sub.head(5)"
   ]
  },
  {
   "cell_type": "code",
   "execution_count": null,
   "id": "cbe01793-3d29-4de7-822b-b7a58e208c21",
   "metadata": {},
   "outputs": [],
   "source": []
  }
 ],
 "metadata": {
  "kernelspec": {
   "display_name": "Python 3 (ipykernel)",
   "language": "python",
   "name": "python3"
  },
  "language_info": {
   "codemirror_mode": {
    "name": "ipython",
    "version": 3
   },
   "file_extension": ".py",
   "mimetype": "text/x-python",
   "name": "python",
   "nbconvert_exporter": "python",
   "pygments_lexer": "ipython3",
   "version": "3.8.10"
  }
 },
 "nbformat": 4,
 "nbformat_minor": 5
}
